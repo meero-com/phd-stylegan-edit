{
 "cells": [
  {
   "cell_type": "code",
   "execution_count": 4,
   "metadata": {},
   "outputs": [
    {
     "name": "stdout",
     "output_type": "stream",
     "text": [
      "Collecting ninja\n",
      "  Downloading ninja-1.10.0.post2-py3-none-manylinux1_x86_64.whl (107 kB)\n",
      "\u001b[K     |████████████████████████████████| 107 kB 9.7 MB/s eta 0:00:01\n",
      "\u001b[?25hInstalling collected packages: ninja\n",
      "Successfully installed ninja-1.10.0.post2\n"
     ]
    }
   ],
   "source": [
    "!pip install ninja"
   ]
  },
  {
   "cell_type": "code",
   "execution_count": 1,
   "metadata": {},
   "outputs": [
    {
     "name": "stdout",
     "output_type": "stream",
     "text": [
      "Collecting setproctitle\n",
      "  Downloading setproctitle-1.1.10.tar.gz (24 kB)\n",
      "Building wheels for collected packages: setproctitle\n",
      "  Building wheel for setproctitle (setup.py) ... \u001b[?25ldone\n",
      "\u001b[?25h  Created wheel for setproctitle: filename=setproctitle-1.1.10-cp37-cp37m-linux_x86_64.whl size=35173 sha256=4cfb4a3a7fcffe6f5bd4d676d64f336740c946b05025f341798fe810af9a2edc\n",
      "  Stored in directory: /root/.cache/pip/wheels/02/79/9a/ad2d16e975ac2a43458abc7f87089779308c3018f92bff11b4\n",
      "Successfully built setproctitle\n",
      "Installing collected packages: setproctitle\n",
      "Successfully installed setproctitle-1.1.10\n"
     ]
    }
   ],
   "source": [
    "!pip install setproctitle"
   ]
  },
  {
   "cell_type": "code",
   "execution_count": 3,
   "metadata": {},
   "outputs": [
    {
     "name": "stdout",
     "output_type": "stream",
     "text": [
      "Hit:1 http://archive.ubuntu.com/ubuntu bionic InRelease\n",
      "Hit:2 https://deb.nodesource.com/node_14.x bionic InRelease                    \u001b[0m\n",
      "Hit:3 http://archive.ubuntu.com/ubuntu bionic-updates InRelease                \u001b[0m\u001b[33m\n",
      "Hit:4 http://archive.ubuntu.com/ubuntu bionic-backports InRelease              \u001b[0m\n",
      "Hit:5 http://security.ubuntu.com/ubuntu bionic-security InRelease       \u001b[0m   \u001b[0m\u001b[33m\n",
      "Ign:6 https://developer.download.nvidia.com/compute/cuda/repos/ubuntu1804/x86_64  InReleasem\n",
      "Ign:7 https://developer.download.nvidia.com/compute/machine-learning/repos/ubuntu1804/x86_64  InRelease\n",
      "Hit:8 https://developer.download.nvidia.com/compute/cuda/repos/ubuntu1804/x86_64  Release\n",
      "Hit:9 https://developer.download.nvidia.com/compute/machine-learning/repos/ubuntu1804/x86_64  Release\n",
      "Reading package lists... Done0m\u001b[33m\u001b[33m\n",
      "Building dependency tree       \n",
      "Reading state information... Done\n",
      "42 packages can be upgraded. Run 'apt list --upgradable' to see them.\n",
      "Reading package lists... Done\n",
      "Building dependency tree       \n",
      "Reading state information... Done\n",
      "The following additional packages will be installed:\n",
      "  libdrm-amdgpu1 libdrm-common libdrm-intel1 libdrm-nouveau2 libdrm-radeon1\n",
      "  libdrm2 libelf1 libgl1 libgl1-mesa-dri libglapi-mesa libglvnd0 libglx-mesa0\n",
      "  libglx0 libllvm10 libpciaccess0 libsensors4 libx11-xcb1 libxcb-dri2-0\n",
      "  libxcb-dri3-0 libxcb-glx0 libxcb-present0 libxcb-sync1 libxdamage1\n",
      "  libxfixes3 libxshmfence1 libxxf86vm1\n",
      "Suggested packages:\n",
      "  pciutils lm-sensors\n",
      "The following NEW packages will be installed:\n",
      "  libdrm-amdgpu1 libdrm-common libdrm-intel1 libdrm-nouveau2 libdrm-radeon1\n",
      "  libdrm2 libelf1 libgl1 libgl1-mesa-dri libgl1-mesa-glx libglapi-mesa\n",
      "  libglvnd0 libglx-mesa0 libglx0 libllvm10 libpciaccess0 libsensors4\n",
      "  libx11-xcb1 libxcb-dri2-0 libxcb-dri3-0 libxcb-glx0 libxcb-present0\n",
      "  libxcb-sync1 libxdamage1 libxfixes3 libxshmfence1 libxxf86vm1\n",
      "0 upgraded, 27 newly installed, 0 to remove and 42 not upgraded.\n",
      "Need to get 25.4 MB of archives.\n",
      "After this operation, 327 MB of additional disk space will be used.\n",
      "Do you want to continue? [Y/n] ^C\n"
     ]
    }
   ],
   "source": [
    "!apt update\n",
    "!apt install libgl1-mesa-glx"
   ]
  },
  {
   "cell_type": "code",
   "execution_count": 1,
   "metadata": {},
   "outputs": [
    {
     "name": "stdout",
     "output_type": "stream",
     "text": [
      "Collecting pytorch-fid\n",
      "  Downloading pytorch-fid-0.1.1.tar.gz (9.3 kB)\n",
      "Requirement already satisfied: numpy in /usr/local/lib/python3.7/dist-packages (from pytorch-fid) (1.19.2)\n",
      "Requirement already satisfied: pillow in /usr/local/lib/python3.7/dist-packages (from pytorch-fid) (7.2.0)\n",
      "Requirement already satisfied: scipy in /usr/local/lib/python3.7/dist-packages (from pytorch-fid) (1.5.2)\n",
      "Requirement already satisfied: torch in /usr/local/lib/python3.7/dist-packages (from pytorch-fid) (1.6.0)\n",
      "Requirement already satisfied: torchvision in /usr/local/lib/python3.7/dist-packages (from pytorch-fid) (0.7.0)\n",
      "Requirement already satisfied: future in /usr/local/lib/python3.7/dist-packages (from torch->pytorch-fid) (0.18.2)\n",
      "Building wheels for collected packages: pytorch-fid\n",
      "  Building wheel for pytorch-fid (setup.py) ... \u001b[?25ldone\n",
      "\u001b[?25h  Created wheel for pytorch-fid: filename=pytorch_fid-0.1.1-py3-none-any.whl size=10187 sha256=0642275766c0ace295098af06081aba9db1991ac6580a335ecfa857dcac778cd\n",
      "  Stored in directory: /root/.cache/pip/wheels/02/c5/ed/58ac12fce449ae1c1501c2e676988975e1afc852f6967ceb6b\n",
      "Successfully built pytorch-fid\n",
      "Installing collected packages: pytorch-fid\n",
      "Successfully installed pytorch-fid-0.1.1\n"
     ]
    }
   ],
   "source": [
    "!pip install pytorch-fid"
   ]
  },
  {
   "cell_type": "code",
   "execution_count": 1,
   "metadata": {},
   "outputs": [
    {
     "name": "stdout",
     "output_type": "stream",
     "text": [
      "Collecting lpips\n",
      "  Downloading lpips-0.1.3-py3-none-any.whl (53 kB)\n",
      "\u001b[K     |████████████████████████████████| 53 kB 3.6 MB/s  eta 0:00:01\n",
      "\u001b[?25hInstalling collected packages: lpips\n",
      "Successfully installed lpips-0.1.3\n"
     ]
    }
   ],
   "source": [
    "!pip install lpips"
   ]
  },
  {
   "cell_type": "code",
   "execution_count": null,
   "metadata": {},
   "outputs": [],
   "source": []
  }
 ],
 "metadata": {
  "kernelspec": {
   "display_name": "Python 3",
   "language": "python",
   "name": "python3"
  },
  "language_info": {
   "codemirror_mode": {
    "name": "ipython",
    "version": 3
   },
   "file_extension": ".py",
   "mimetype": "text/x-python",
   "name": "python",
   "nbconvert_exporter": "python",
   "pygments_lexer": "ipython3",
   "version": "3.7.5"
  }
 },
 "nbformat": 4,
 "nbformat_minor": 4
}
