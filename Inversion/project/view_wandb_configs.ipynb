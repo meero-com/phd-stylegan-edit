{
 "cells": [
  {
   "cell_type": "code",
   "execution_count": 23,
   "metadata": {},
   "outputs": [],
   "source": [
    "import os\n",
    "from pathlib import Path\n",
    "import yaml\n",
    "import pandas as pd"
   ]
  },
  {
   "cell_type": "code",
   "execution_count": 73,
   "metadata": {},
   "outputs": [],
   "source": []
  },
  {
   "cell_type": "code",
   "execution_count": 86,
   "metadata": {},
   "outputs": [
    {
     "name": "stdout",
     "output_type": "stream",
     "text": [
      "wandb_version                                                          1\n",
      "_wandb                 {'cli_version': '0.8.36', 'framework': 'fastai...\n",
      "basename_path                                          asya_01_18_run_65\n",
      "checkpoint             /mnt/datadrive/asya/checkpoints/stylegan2/w_pr...\n",
      "checkpoint_dir         /mnt/datadrive/asya/checkpoints/stylegan2/w_pr...\n",
      "device                                                              cuda\n",
      "encoder_dir            /mnt/datadrive/asya/checkpoints/stylegan2/late...\n",
      "im_path                /home/asya/work_git/recherche/StyleGAN/aligned...\n",
      "init                                                                   a\n",
      "lr                                                                 0.005\n",
      "mse                                                                  0.9\n",
      "mse_coef                                                               1\n",
      "nb_it                                                               2000\n",
      "nlatent                                                               18\n",
      "noise                                                               0.05\n",
      "noise_ramp                                                          0.75\n",
      "noise_regularize                                                  100000\n",
      "opt_z                                                              False\n",
      "pattern                                                             norm\n",
      "pdisc_coef                                                             0\n",
      "percept_fact                                                         1.5\n",
      "pro_model                                                           True\n",
      "pvgg_coef                                                              0\n",
      "resume_training                                                    False\n",
      "resume_training_run                                                    0\n",
      "stylegan_ckpt          /mnt/datadrive/asya/checkpoints/stylegan2/styl...\n",
      "use_noise                                                           True\n",
      "video                                                               True\n",
      "video_path             /mnt/datadrive/asya/checkpoints/stylegan2/w_pr...\n",
      "Name: value, dtype: object\n"
     ]
    }
   ],
   "source": [
    "run = 'asya_01_18_run_65'\n",
    "\n",
    "\n",
    "\n",
    "\n",
    "\n",
    "p = Path('/mnt/datadrive/asya/checkpoints/stylegan2/w_projections/{}/wandb/'.format(run))\n",
    "run_dir = sorted(os.listdir(p))[-1] # because there are 2 folders and its the second one\n",
    "\n",
    "yaml_file = os.path.join(p, run_dir + '/config.yaml')\n",
    "contents = None\n",
    "with open(yaml_file, 'r') as stream:\n",
    "    try:\n",
    "        contents = yaml.safe_load(stream)\n",
    "    except yaml.YAMLError as exc:\n",
    "        print(exc)\n",
    "\n",
    "d = pd.DataFrame(contents).T['value']\n",
    "\n",
    "\n",
    "\n",
    "\n",
    "print(d)\n",
    "\n",
    "\n",
    "# for k in d.keys():\n",
    "#     if 'coef' in k:\n",
    "#         print(\"{} - {}\".format(k, d[k]))\n",
    "# k = 'train_alternate'\n",
    "# print(\"{} - {}\".format(k, d[k]))"
   ]
  },
  {
   "cell_type": "code",
   "execution_count": 75,
   "metadata": {},
   "outputs": [
    {
     "name": "stdout",
     "output_type": "stream",
     "text": [
      "mse_coef - 1.0\n",
      "pdisc_coef - 0.0\n",
      "pvgg_coef - 0.0\n",
      "train_alternate - False\n"
     ]
    }
   ],
   "source": []
  },
  {
   "cell_type": "code",
   "execution_count": 43,
   "metadata": {},
   "outputs": [
    {
     "data": {
      "text/plain": [
       "['_wandb',\n",
       " 'basename_path',\n",
       " 'checkpoint',\n",
       " 'checkpoint_dir',\n",
       " 'device',\n",
       " 'encoder_dir',\n",
       " 'im_path',\n",
       " 'init',\n",
       " 'layers',\n",
       " 'lr',\n",
       " 'mse',\n",
       " 'mse_coef',\n",
       " 'nb_it',\n",
       " 'nlatent',\n",
       " 'noise',\n",
       " 'noise_ramp',\n",
       " 'noise_regularize',\n",
       " 'opt_z',\n",
       " 'pattern',\n",
       " 'pdisc_coef',\n",
       " 'percept_fact',\n",
       " 'pro_model',\n",
       " 'pvgg_coef',\n",
       " 'resume_training',\n",
       " 'resume_training_run',\n",
       " 'stylegan_ckpt',\n",
       " 'train_alternate',\n",
       " 'use_noise',\n",
       " 'video',\n",
       " 'video_path',\n",
       " 'wandb_version']"
      ]
     },
     "execution_count": 43,
     "metadata": {},
     "output_type": "execute_result"
    }
   ],
   "source": [
    "sorted(d.keys())"
   ]
  },
  {
   "cell_type": "code",
   "execution_count": 20,
   "metadata": {},
   "outputs": [],
   "source": [
    "import torch"
   ]
  },
  {
   "cell_type": "code",
   "execution_count": 22,
   "metadata": {},
   "outputs": [],
   "source": [
    "a = torch.Tensor(0)\n"
   ]
  },
  {
   "cell_type": "code",
   "execution_count": 23,
   "metadata": {},
   "outputs": [
    {
     "ename": "ValueError",
     "evalue": "only one element tensors can be converted to Python scalars",
     "output_type": "error",
     "traceback": [
      "\u001b[0;31m---------------------------------------------------------------------------\u001b[0m",
      "\u001b[0;31mValueError\u001b[0m                                Traceback (most recent call last)",
      "\u001b[0;32m<ipython-input-23-cd1bda83583f>\u001b[0m in \u001b[0;36m<module>\u001b[0;34m\u001b[0m\n\u001b[0;32m----> 1\u001b[0;31m \u001b[0ma\u001b[0m\u001b[0;34m.\u001b[0m\u001b[0mitem\u001b[0m\u001b[0;34m(\u001b[0m\u001b[0;34m)\u001b[0m\u001b[0;34m\u001b[0m\u001b[0;34m\u001b[0m\u001b[0m\n\u001b[0m",
      "\u001b[0;31mValueError\u001b[0m: only one element tensors can be converted to Python scalars"
     ]
    }
   ],
   "source": [
    "a.item()"
   ]
  },
  {
   "cell_type": "code",
   "execution_count": 24,
   "metadata": {},
   "outputs": [
    {
     "ename": "ModuleNotFoundError",
     "evalue": "No module named 'lpips'",
     "output_type": "error",
     "traceback": [
      "\u001b[0;31m---------------------------------------------------------------------------\u001b[0m",
      "\u001b[0;31mModuleNotFoundError\u001b[0m                       Traceback (most recent call last)",
      "\u001b[0;32m<ipython-input-24-c087fe3e5956>\u001b[0m in \u001b[0;36m<module>\u001b[0;34m\u001b[0m\n\u001b[0;32m----> 1\u001b[0;31m \u001b[0;32mimport\u001b[0m \u001b[0mlpips\u001b[0m\u001b[0;34m\u001b[0m\u001b[0;34m\u001b[0m\u001b[0m\n\u001b[0m",
      "\u001b[0;31mModuleNotFoundError\u001b[0m: No module named 'lpips'"
     ]
    }
   ],
   "source": [
    "import lpips"
   ]
  },
  {
   "cell_type": "code",
   "execution_count": 3,
   "metadata": {},
   "outputs": [],
   "source": [
    "#from fastai.vision.data import imagenet_stats\n",
    "#from image_tools import load_images, images_to_video, GeneratedImageHook\n",
    "from model_tools import get_stylegan_models, get_encoder, PerceptualDiscLoss, PostSynthesisProcessing"
   ]
  },
  {
   "cell_type": "code",
   "execution_count": 2,
   "metadata": {},
   "outputs": [
    {
     "ename": "ModuleNotFoundError",
     "evalue": "No module named 'lpips'",
     "output_type": "error",
     "traceback": [
      "\u001b[0;31m---------------------------------------------------------------------------\u001b[0m",
      "\u001b[0;31mModuleNotFoundError\u001b[0m                       Traceback (most recent call last)",
      "\u001b[0;32m<ipython-input-2-c087fe3e5956>\u001b[0m in \u001b[0;36m<module>\u001b[0;34m\u001b[0m\n\u001b[0;32m----> 1\u001b[0;31m \u001b[0;32mimport\u001b[0m \u001b[0mlpips\u001b[0m\u001b[0;34m\u001b[0m\u001b[0;34m\u001b[0m\u001b[0m\n\u001b[0m",
      "\u001b[0;31mModuleNotFoundError\u001b[0m: No module named 'lpips'"
     ]
    }
   ],
   "source": [
    "import lpips"
   ]
  },
  {
   "cell_type": "code",
   "execution_count": 4,
   "metadata": {},
   "outputs": [],
   "source": [
    "import lpips"
   ]
  },
  {
   "cell_type": "code",
   "execution_count": 9,
   "metadata": {},
   "outputs": [],
   "source": [
    "import glob\n",
    "import os\n",
    "\n",
    "def get_number(run_name):\n",
    "    num = run_name.split('_run_')\n",
    "    try:\n",
    "        num = int(num[1])\n",
    "    except Exception:\n",
    "        return 0\n",
    "    \n",
    "    \n",
    "    try:\n",
    "        return int(num[0])\n",
    "    except (IndexError, ValueError) as e:\n",
    "        return 0\n",
    "\n",
    "def get_next_number(basepath):\n",
    "    max_number = 0\n",
    "    current_runs = glob.glob(basepath)\n",
    "    numbers = sorted([get_number(run) for run in current_runs])\n",
    "    if len(numbers) > 0:\n",
    "        max_number = numbers[-1]\n",
    "    return max_number + 1"
   ]
  },
  {
   "cell_type": "code",
   "execution_count": 10,
   "metadata": {},
   "outputs": [],
   "source": [
    "checkpoint_dir = '/mnt/datadrive/asya/checkpoints/stylegan2/w_projections'"
   ]
  },
  {
   "cell_type": "code",
   "execution_count": 11,
   "metadata": {},
   "outputs": [],
   "source": [
    "subdir = \"opt_z_init_e\"\n",
    "parent_dir = \"asya_01_1\""
   ]
  },
  {
   "cell_type": "code",
   "execution_count": 12,
   "metadata": {},
   "outputs": [
    {
     "data": {
      "text/plain": [
       "1"
      ]
     },
     "execution_count": 12,
     "metadata": {},
     "output_type": "execute_result"
    }
   ],
   "source": [
    "get_next_number(os.path.join(parent_dir, subdir))"
   ]
  },
  {
   "cell_type": "code",
   "execution_count": 9,
   "metadata": {},
   "outputs": [],
   "source": [
    "basepath =  '/mnt/datadrive/asya/checkpoints/stylegan2/w_projections/mcord_01_1/opt_wn_init_e_run_1'"
   ]
  },
  {
   "cell_type": "code",
   "execution_count": 2,
   "metadata": {},
   "outputs": [],
   "source": [
    "import glob"
   ]
  },
  {
   "cell_type": "code",
   "execution_count": 5,
   "metadata": {},
   "outputs": [
    {
     "data": {
      "text/plain": [
       "['/mnt/datadrive/asya/checkpoints/stylegan2/w_projections/mcord_01_1/opt_wn_init_e_run_1']"
      ]
     },
     "execution_count": 5,
     "metadata": {},
     "output_type": "execute_result"
    }
   ],
   "source": [
    "glob.glob(basepath + \"_run_*\")\n"
   ]
  },
  {
   "cell_type": "code",
   "execution_count": 10,
   "metadata": {},
   "outputs": [
    {
     "data": {
      "text/plain": [
       "True"
      ]
     },
     "execution_count": 10,
     "metadata": {},
     "output_type": "execute_result"
    }
   ],
   "source": [
    "import os\n",
    "if os.path.exists(os.path.join(basepath, 'wandb')):\n",
    "    shutil.rmtree(os.path.join(basepath, 'wandb'))"
   ]
  },
  {
   "cell_type": "code",
   "execution_count": 8,
   "metadata": {},
   "outputs": [
    {
     "data": {
      "text/plain": [
       "'/mnt/datadrive/asya/checkpoints/stylegan2/w_projections/mcord_01_1/opt_wn_init_e/wandb'"
      ]
     },
     "execution_count": 8,
     "metadata": {},
     "output_type": "execute_result"
    }
   ],
   "source": [
    "os.path.join(basepath, 'wandb')"
   ]
  },
  {
   "cell_type": "code",
   "execution_count": 11,
   "metadata": {},
   "outputs": [],
   "source": [
    "import shutil\n",
    "shutil.rmtree(os.path.join(basepath, 'wandb'))"
   ]
  },
  {
   "cell_type": "code",
   "execution_count": null,
   "metadata": {},
   "outputs": [],
   "source": []
  },
  {
   "cell_type": "code",
   "execution_count": null,
   "metadata": {},
   "outputs": [],
   "source": []
  },
  {
   "cell_type": "code",
   "execution_count": null,
   "metadata": {},
   "outputs": [],
   "source": []
  },
  {
   "cell_type": "code",
   "execution_count": null,
   "metadata": {},
   "outputs": [],
   "source": []
  },
  {
   "cell_type": "code",
   "execution_count": 1,
   "metadata": {},
   "outputs": [
    {
     "ename": "ModuleNotFoundError",
     "evalue": "No module named 'lpips'",
     "output_type": "error",
     "traceback": [
      "\u001b[0;31m---------------------------------------------------------------------------\u001b[0m",
      "\u001b[0;31mModuleNotFoundError\u001b[0m                       Traceback (most recent call last)",
      "\u001b[0;32m<ipython-input-1-c087fe3e5956>\u001b[0m in \u001b[0;36m<module>\u001b[0;34m\u001b[0m\n\u001b[0;32m----> 1\u001b[0;31m \u001b[0;32mimport\u001b[0m \u001b[0mlpips\u001b[0m\u001b[0;34m\u001b[0m\u001b[0;34m\u001b[0m\u001b[0m\n\u001b[0m",
      "\u001b[0;31mModuleNotFoundError\u001b[0m: No module named 'lpips'"
     ]
    }
   ],
   "source": [
    "import lpips"
   ]
  },
  {
   "cell_type": "code",
   "execution_count": null,
   "metadata": {},
   "outputs": [],
   "source": []
  }
 ],
 "metadata": {
  "kernelspec": {
   "display_name": "Python 3",
   "language": "python",
   "name": "python3"
  },
  "language_info": {
   "codemirror_mode": {
    "name": "ipython",
    "version": 3
   },
   "file_extension": ".py",
   "mimetype": "text/x-python",
   "name": "python",
   "nbconvert_exporter": "python",
   "pygments_lexer": "ipython3",
   "version": "3.6.8"
  }
 },
 "nbformat": 4,
 "nbformat_minor": 4
}
